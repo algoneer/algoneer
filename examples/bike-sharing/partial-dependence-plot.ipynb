{
 "cells": [
  {
   "cell_type": "code",
   "execution_count": 1,
   "metadata": {},
   "outputs": [],
   "source": [
    "from algoneer_datasets.bike_sharing import load_dataset\n",
    "ds = load_dataset()\n",
    "df = ds.df"
   ]
  },
  {
   "cell_type": "code",
   "execution_count": 2,
   "metadata": {},
   "outputs": [
    {
     "data": {
      "text/plain": [
       "<algoneer.dataset.pandas.PandasAttribute at 0x7f734350c390>"
      ]
     },
     "execution_count": 2,
     "metadata": {},
     "output_type": "execute_result"
    }
   ],
   "source": [
    "ds.roles.y[ds.roles.y.columns[0]]"
   ]
  },
  {
   "cell_type": "code",
   "execution_count": 3,
   "metadata": {},
   "outputs": [],
   "source": [
    "from algoneer_datasets.bike_sharing.algorithms import get_algorithm"
   ]
  },
  {
   "cell_type": "code",
   "execution_count": 4,
   "metadata": {},
   "outputs": [],
   "source": [
    "algo = get_algorithm('random-forest', n_estimators=100)"
   ]
  },
  {
   "cell_type": "code",
   "execution_count": 5,
   "metadata": {},
   "outputs": [],
   "source": [
    "model = algo.fit(ds)"
   ]
  },
  {
   "cell_type": "code",
   "execution_count": 6,
   "metadata": {},
   "outputs": [
    {
     "data": {
      "text/plain": [
       "True"
      ]
     },
     "execution_count": 6,
     "metadata": {},
     "output_type": "execute_result"
    }
   ],
   "source": [
    "# we make sure this model is a regressor\n",
    "model.algorithm.is_regressor"
   ]
  },
  {
   "cell_type": "markdown",
   "metadata": {},
   "source": [
    "## Partial Dependence Plot\n",
    "\n",
    "To make a partial dependence plot for a given feature, we implement the following algorithm:\n",
    "\n",
    "* If the feature is categorical, we generate a list of all possible feature values.\n",
    "* If the features is numerical, we generate a list of values spanning the valid range of the feature\n",
    "* For each value from the list of values, we calculate the average prediction value (for regression) or the class frequencies (for classification) over all datapoints in the dataset.\n",
    "* We plot the resulting value as a function of the feature value."
   ]
  },
  {
   "cell_type": "code",
   "execution_count": 7,
   "metadata": {},
   "outputs": [],
   "source": [
    "from algoneer.methods.blackbox.pdp import PDP\n",
    "\n",
    "pdp = PDP()"
   ]
  },
  {
   "cell_type": "code",
   "execution_count": 8,
   "metadata": {},
   "outputs": [
    {
     "name": "stderr",
     "output_type": "stream",
     "text": [
      "[PDP]: unknown attribute type for column 'instant', skipping...\n",
      "[PDP]: unknown attribute type for column 'yr', skipping...\n",
      "[PDP]: unknown attribute type for column 'mnth', skipping...\n",
      "[PDP]: unknown attribute type for column 'holiday', skipping...\n",
      "[PDP]: unknown attribute type for column 'weekday', skipping...\n",
      "[PDP]: unknown attribute type for column 'workingday', skipping...\n"
     ]
    }
   ],
   "source": [
    "result = pdp.run(model, ds)"
   ]
  },
  {
   "cell_type": "code",
   "execution_count": null,
   "metadata": {},
   "outputs": [],
   "source": [
    "%matplotlib inline\n",
    "import matplotlib.pylab as pl\n",
    "\n",
    "c = 'weathersit'\n",
    "\n",
    "pl.plot([x*50 for x in result[c][0]], result[c][1])"
   ]
  },
  {
   "cell_type": "code",
   "execution_count": null,
   "metadata": {},
   "outputs": [],
   "source": [
    "ds.attributes['weathersit'].schema.config"
   ]
  }
 ],
 "metadata": {
  "kernelspec": {
   "display_name": "Python 3",
   "language": "python",
   "name": "python3"
  },
  "language_info": {
   "codemirror_mode": {
    "name": "ipython",
    "version": 3
   },
   "file_extension": ".py",
   "mimetype": "text/x-python",
   "name": "python",
   "nbconvert_exporter": "python",
   "pygments_lexer": "ipython3",
   "version": "3.7.3"
  }
 },
 "nbformat": 4,
 "nbformat_minor": 2
}
